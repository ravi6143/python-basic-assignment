{
 "cells": [
  {
   "cell_type": "code",
   "execution_count": null,
   "id": "4052c9a2-57bd-4248-aa6f-bff87c665c46",
   "metadata": {},
   "outputs": [],
   "source": [
    "# Questions-1\n",
    "Ans -\n",
    "c =  data variable"
   ]
  },
  {
   "cell_type": "code",
   "execution_count": 9,
   "id": "91fe118d-acc6-4aa2-b054-820e72ee0710",
   "metadata": {},
   "outputs": [],
   "source": [
    " c = (\"ravi\" , [1 , 2 , 3] ,3.56 ,  (\"ram\" , \"shyam\" , \"h\"))"
   ]
  },
  {
   "cell_type": "code",
   "execution_count": 10,
   "id": "1c447854-68af-4a06-8458-da476957c906",
   "metadata": {},
   "outputs": [
    {
     "name": "stdout",
     "output_type": "stream",
     "text": [
      "('ravi', [1, 2, 3], 3.56, ('ram', 'shyam', 'h'))\n"
     ]
    }
   ],
   "source": [
    "print(c)"
   ]
  },
  {
   "cell_type": "code",
   "execution_count": 11,
   "id": "ad8f91ad-4ae9-42a2-a418-4b9bf5f81882",
   "metadata": {},
   "outputs": [
    {
     "name": "stdout",
     "output_type": "stream",
     "text": [
      "<class 'tuple'>\n"
     ]
    }
   ],
   "source": [
    "print(type(c))"
   ]
  },
  {
   "cell_type": "code",
   "execution_count": 12,
   "id": "1db1c83a-3fdf-47fe-ab27-ec513744ac65",
   "metadata": {},
   "outputs": [
    {
     "data": {
      "text/plain": [
       "('ram', 'shyam', 'h')"
      ]
     },
     "execution_count": 12,
     "metadata": {},
     "output_type": "execute_result"
    }
   ],
   "source": [
    "c[3]"
   ]
  },
  {
   "cell_type": "code",
   "execution_count": 15,
   "id": "f58e54b5-a097-47a9-8ca6-403b3e157bce",
   "metadata": {},
   "outputs": [
    {
     "name": "stdout",
     "output_type": "stream",
     "text": [
      "<class 'tuple'>\n"
     ]
    }
   ],
   "source": [
    "print(typ((c[3]))"
   ]
  },
  {
   "cell_type": "code",
   "execution_count": 17,
   "id": "488bdeb9-1657-45af-8886-b00520703a77",
   "metadata": {},
   "outputs": [
    {
     "name": "stdout",
     "output_type": "stream",
     "text": [
      "<class 'float'>\n"
     ]
    }
   ],
   "source": [
    "print(type(c[2]))"
   ]
  },
  {
   "cell_type": "code",
   "execution_count": 28,
   "id": "b16586b1-046a-4140-b0c9-8ad14b7dfd8f",
   "metadata": {},
   "outputs": [
    {
     "name": "stdout",
     "output_type": "stream",
     "text": [
      "<class 'str'>\n"
     ]
    }
   ],
   "source": [
    "print(type(c[0]))"
   ]
  },
  {
   "cell_type": "code",
   "execution_count": null,
   "id": "7174728f-834a-4720-b199-b295b711cf82",
   "metadata": {},
   "outputs": [],
   "source": []
  },
  {
   "cell_type": "code",
   "execution_count": null,
   "id": "2015e71d-685e-4948-a21b-08963684f90e",
   "metadata": {},
   "outputs": [],
   "source": []
  },
  {
   "cell_type": "code",
   "execution_count": null,
   "id": "e1e68e02-9412-4c7a-a3e6-ea2e94cbec8d",
   "metadata": {},
   "outputs": [],
   "source": [
    "# question - 2\n",
    "ans -\n"
   ]
  },
  {
   "cell_type": "code",
   "execution_count": 29,
   "id": "6e7ec398-b988-42fd-9c1a-4bca42807108",
   "metadata": {},
   "outputs": [],
   "source": [
    "var1 = ''"
   ]
  },
  {
   "cell_type": "code",
   "execution_count": 20,
   "id": "28c31457-a280-4948-8d75-18d546a3e922",
   "metadata": {},
   "outputs": [
    {
     "name": "stdout",
     "output_type": "stream",
     "text": [
      "<class 'str'>\n"
     ]
    }
   ],
   "source": [
    "print(type(var1))"
   ]
  },
  {
   "cell_type": "code",
   "execution_count": 21,
   "id": "3e2c22d0-c95e-4537-ba68-5c20617c9da6",
   "metadata": {},
   "outputs": [],
   "source": [
    "var2 = '[DS , ML , Python]'"
   ]
  },
  {
   "cell_type": "code",
   "execution_count": 22,
   "id": "b8d02f7b-4ae8-4a81-a352-c1b37bac117f",
   "metadata": {},
   "outputs": [
    {
     "name": "stdout",
     "output_type": "stream",
     "text": [
      "<class 'str'>\n"
     ]
    }
   ],
   "source": [
    "print(type(var2))"
   ]
  },
  {
   "cell_type": "code",
   "execution_count": 23,
   "id": "4a381bd2-79a4-4eed-ae9c-f2de4ad7119e",
   "metadata": {},
   "outputs": [],
   "source": [
    "var3 = ['DS' , 'ML' , 'Python']"
   ]
  },
  {
   "cell_type": "code",
   "execution_count": 24,
   "id": "037458f9-5c5c-465a-a02c-b271b563f96b",
   "metadata": {},
   "outputs": [
    {
     "name": "stdout",
     "output_type": "stream",
     "text": [
      "<class 'list'>\n"
     ]
    }
   ],
   "source": [
    "print(type(var3))"
   ]
  },
  {
   "cell_type": "code",
   "execution_count": 25,
   "id": "4081eae3-2135-4510-aea2-bebca9c35f38",
   "metadata": {},
   "outputs": [],
   "source": [
    "var4 = 1."
   ]
  },
  {
   "cell_type": "code",
   "execution_count": 27,
   "id": "4a8de666-5985-4df3-9996-d3e4c604ddcb",
   "metadata": {},
   "outputs": [
    {
     "name": "stdout",
     "output_type": "stream",
     "text": [
      "<class 'float'>\n"
     ]
    }
   ],
   "source": [
    "print(type(var4))"
   ]
  },
  {
   "cell_type": "code",
   "execution_count": null,
   "id": "d35c2cd9-7a92-4b42-b1cf-9cd4e814c8c1",
   "metadata": {},
   "outputs": [],
   "source": []
  },
  {
   "cell_type": "code",
   "execution_count": null,
   "id": "d7939656-dfa3-4916-aa05-e40159d8ab9b",
   "metadata": {},
   "outputs": [],
   "source": []
  },
  {
   "cell_type": "code",
   "execution_count": null,
   "id": "1f30a953-140a-4fec-ac3e-5ddd815ff96b",
   "metadata": {},
   "outputs": [],
   "source": [
    "# question -3 \n",
    "ans - \n"
   ]
  },
  {
   "cell_type": "code",
   "execution_count": null,
   "id": "cc9c6752-cfd8-4e8e-bb28-de4c7302cd08",
   "metadata": {},
   "outputs": [],
   "source": [
    "# /  is arithmatic operator used for performing division\n"
   ]
  },
  {
   "cell_type": "code",
   "execution_count": 30,
   "id": "947daa11-d28d-44a1-8678-fdffe47c54ab",
   "metadata": {},
   "outputs": [
    {
     "data": {
      "text/plain": [
       "5.0"
      ]
     },
     "execution_count": 30,
     "metadata": {},
     "output_type": "execute_result"
    }
   ],
   "source": [
    "10 / 2"
   ]
  },
  {
   "cell_type": "code",
   "execution_count": null,
   "id": "ab1231ef-2935-4320-9eca-186cb984a9f7",
   "metadata": {},
   "outputs": [],
   "source": [
    "# % is also a arithmatic operator, whic gives the remainder of dividing of two numbers"
   ]
  },
  {
   "cell_type": "code",
   "execution_count": 31,
   "id": "ca7de0ec-4c31-49ff-9de2-385eba3bf9f1",
   "metadata": {},
   "outputs": [
    {
     "data": {
      "text/plain": [
       "4"
      ]
     },
     "execution_count": 31,
     "metadata": {},
     "output_type": "execute_result"
    }
   ],
   "source": [
    "9%5"
   ]
  },
  {
   "cell_type": "code",
   "execution_count": null,
   "id": "b443601c-2be6-4f35-9943-78148a52164c",
   "metadata": {},
   "outputs": [],
   "source": [
    "# //  is floor division operator whic gives the whole number adjusted to the left in the number line"
   ]
  },
  {
   "cell_type": "code",
   "execution_count": 32,
   "id": "a80ca162-710b-4274-bde4-6a2b9de709a2",
   "metadata": {},
   "outputs": [
    {
     "data": {
      "text/plain": [
       "6"
      ]
     },
     "execution_count": 32,
     "metadata": {},
     "output_type": "execute_result"
    }
   ],
   "source": [
    "25//4"
   ]
  },
  {
   "cell_type": "code",
   "execution_count": null,
   "id": "fcf3c58f-3069-441e-a9ea-35a888f70874",
   "metadata": {},
   "outputs": [],
   "source": [
    "# ** is exponentional operator whic gives the power of a number"
   ]
  },
  {
   "cell_type": "code",
   "execution_count": 33,
   "id": "b275fe60-ba78-4e88-8833-891aa4154ff8",
   "metadata": {},
   "outputs": [
    {
     "data": {
      "text/plain": [
       "3125"
      ]
     },
     "execution_count": 33,
     "metadata": {},
     "output_type": "execute_result"
    }
   ],
   "source": [
    "5**5"
   ]
  },
  {
   "cell_type": "code",
   "execution_count": null,
   "id": "9ab7bf33-cc62-4dbd-9dbb-87416e5a8187",
   "metadata": {},
   "outputs": [],
   "source": []
  },
  {
   "cell_type": "code",
   "execution_count": null,
   "id": "743c6d92-c6ba-4c68-b056-1e66f4cc12a4",
   "metadata": {},
   "outputs": [],
   "source": []
  },
  {
   "cell_type": "code",
   "execution_count": null,
   "id": "d559e6e1-b89f-4391-a630-389beabd688a",
   "metadata": {},
   "outputs": [],
   "source": [
    "# question  - 4\n",
    "ans - \n",
    " let l = list\n",
    "    \n",
    "    "
   ]
  },
  {
   "cell_type": "code",
   "execution_count": 43,
   "id": "6cd1dbae-e4b6-4051-befc-c539c563d691",
   "metadata": {},
   "outputs": [
    {
     "name": "stdout",
     "output_type": "stream",
     "text": [
      "ravi - <class 'str'>\n",
      "45 - <class 'int'>\n",
      "56.65 - <class 'float'>\n",
      "True - <class 'bool'>\n",
      "(1, 4, 7) - <class 'tuple'>\n",
      "{'name': 'ravi', 'age': 21} - <class 'dict'>\n",
      "{'hockey', 'cricketfootball'} - <class 'set'>\n",
      "False - <class 'bool'>\n",
      "78 - <class 'int'>\n",
      "None - <class 'NoneType'>\n"
     ]
    }
   ],
   "source": [
    "l = [\"ravi\" , 45 , 56.65 , True , ( 1 , 4 , 7 ) , {\"name\" : \"ravi\" , \"age\" : 21} , {\"cricket\" \"football\" , \"hockey\"} , False , 78 , None]\n",
    "\n",
    "for r in l :\n",
    "    print(f\"{r} - {type(r)}\")"
   ]
  },
  {
   "cell_type": "code",
   "execution_count": null,
   "id": "436b49bf-ff55-4818-8517-8c5f33c441e7",
   "metadata": {},
   "outputs": [],
   "source": []
  },
  {
   "cell_type": "code",
   "execution_count": null,
   "id": "0500d97b-da3f-4b72-8442-304c5b004e84",
   "metadata": {},
   "outputs": [],
   "source": []
  },
  {
   "cell_type": "code",
   "execution_count": null,
   "id": "7ca71eb7-c579-4a39-8279-e0d9dee60d5c",
   "metadata": {},
   "outputs": [],
   "source": [
    "# Question - 5\n",
    "ans - "
   ]
  },
  {
   "cell_type": "code",
   "execution_count": 44,
   "id": "0b8d1cf4-95ee-49d6-a917-e6c6947be14b",
   "metadata": {},
   "outputs": [
    {
     "name": "stdout",
     "output_type": "stream",
     "text": [
      "A is divisible by B , and it can be divide 4 times.\n"
     ]
    }
   ],
   "source": [
    "A = 5000    # the dividened\n",
    "B = 5       # the divisor\n",
    "\n",
    "count = 0 \n",
    "\n",
    "while A % B == 0 : \n",
    "    A = A / B \n",
    "    count += 1\n",
    "    \n",
    "if count > 0 :\n",
    "    print(f\"A is divisible by B , and it can be divide {count} times.\")\n",
    "    \n",
    "else : \n",
    "    print(\"A is not divisible by B.\")"
   ]
  },
  {
   "cell_type": "code",
   "execution_count": null,
   "id": "f632c228-821a-4a5c-a7e1-b9162931ceb5",
   "metadata": {},
   "outputs": [],
   "source": []
  },
  {
   "cell_type": "code",
   "execution_count": null,
   "id": "8f2cd5f2-efd4-492a-8656-10e471d412bc",
   "metadata": {},
   "outputs": [],
   "source": []
  },
  {
   "cell_type": "code",
   "execution_count": null,
   "id": "83083b38-7133-4e50-a869-d6f6a475b383",
   "metadata": {},
   "outputs": [],
   "source": [
    "# Question - 6 \n",
    "ans - \n",
    "s = list "
   ]
  },
  {
   "cell_type": "code",
   "execution_count": 62,
   "id": "8b24ac6e-c28e-4f2c-ad65-656ae1088eb8",
   "metadata": {},
   "outputs": [
    {
     "name": "stdout",
     "output_type": "stream",
     "text": [
      "5\n",
      "not divisible by 3\n",
      "8\n",
      "not divisible by 3\n",
      "11\n",
      "not divisible by 3\n",
      "14\n",
      "not divisible by 3\n",
      "17\n",
      "not divisible by 3\n",
      "19\n",
      "not divisible by 3\n",
      "24\n",
      "divisible by 3\n",
      "27\n",
      "divisible by 3\n",
      "30\n",
      "divisible by 3\n",
      "32\n",
      "not divisible by 3\n",
      "35\n",
      "not divisible by 3\n",
      "39\n",
      "divisible by 3\n",
      "41\n",
      "not divisible by 3\n",
      "44\n",
      "not divisible by 3\n",
      "45\n",
      "divisible by 3\n",
      "48\n",
      "divisible by 3\n",
      "50\n",
      "not divisible by 3\n",
      "52\n",
      "not divisible by 3\n",
      "54\n",
      "divisible by 3\n",
      "56\n",
      "not divisible by 3\n",
      "59\n",
      "not divisible by 3\n",
      "62\n",
      "not divisible by 3\n",
      "65\n",
      "not divisible by 3\n",
      "67\n",
      "not divisible by 3\n",
      "69\n",
      "divisible by 3\n"
     ]
    }
   ],
   "source": [
    "s = [5 , 8 , 11 ,14 , 17 , 19 , 24 , 27 , 30 , 32 , 35 , 39 , 41 , 44 , 45 , 48 , 50 , 52 , 54 , 56 , 59 , 62 , 65 , 67 , 69 , ]\n",
    "\n",
    "for d in s :\n",
    "    if d % 3 == 0 :\n",
    "        print(d)\n",
    "        print(\"divisible by 3\")\n",
    "    elif d % 3 != 0 :\n",
    "        print(d)\n",
    "        print(\"not divisible by 3\")\n",
    "        \n",
    "    else : \n",
    "        print(\"default\")\n"
   ]
  },
  {
   "cell_type": "code",
   "execution_count": 52,
   "id": "49d0a8d1-e790-458f-bf32-e8d51f899e34",
   "metadata": {},
   "outputs": [
    {
     "name": "stdout",
     "output_type": "stream",
     "text": [
      "25\n"
     ]
    }
   ],
   "source": [
    "print(len(s))"
   ]
  },
  {
   "cell_type": "code",
   "execution_count": null,
   "id": "2cabe2c0-4aad-4779-859e-1be27ffe96f2",
   "metadata": {},
   "outputs": [],
   "source": []
  },
  {
   "cell_type": "code",
   "execution_count": null,
   "id": "3e168f28-5f00-4f47-9dd2-d94f466584da",
   "metadata": {},
   "outputs": [],
   "source": []
  },
  {
   "cell_type": "code",
   "execution_count": null,
   "id": "fd56d843-8541-484c-a0f0-70da9948bc40",
   "metadata": {},
   "outputs": [],
   "source": []
  },
  {
   "cell_type": "code",
   "execution_count": null,
   "id": "2b1fadb5-c77f-48dc-9941-ef6a4d6363f3",
   "metadata": {},
   "outputs": [],
   "source": [
    "# question  - 7\n",
    "ans - \n"
   ]
  },
  {
   "cell_type": "code",
   "execution_count": null,
   "id": "9128ec4a-ed5f-4e22-8d04-a034741182cc",
   "metadata": {},
   "outputs": [],
   "source": [
    "# immutable data types are those whose value can not be changed after the created once\n",
    "strings and integers are immutable "
   ]
  },
  {
   "cell_type": "code",
   "execution_count": 63,
   "id": "d6d1817a-1ff7-45ca-9bc1-c0a9e0ade35b",
   "metadata": {},
   "outputs": [],
   "source": [
    "a = 7 "
   ]
  },
  {
   "cell_type": "code",
   "execution_count": 65,
   "id": "72cb4f06-285f-4ebb-8949-93d02b7d9ebf",
   "metadata": {},
   "outputs": [
    {
     "name": "stdout",
     "output_type": "stream",
     "text": [
      "7\n"
     ]
    }
   ],
   "source": [
    "print(a)"
   ]
  },
  {
   "cell_type": "code",
   "execution_count": 66,
   "id": "727f5293-0eb2-426e-9125-53b297e73cbe",
   "metadata": {},
   "outputs": [],
   "source": [
    "a = 10"
   ]
  },
  {
   "cell_type": "code",
   "execution_count": 67,
   "id": "e89e4cf0-6f0f-41a6-9f28-8e6ceb66a84c",
   "metadata": {},
   "outputs": [
    {
     "name": "stdout",
     "output_type": "stream",
     "text": [
      "10\n"
     ]
    }
   ],
   "source": [
    "print(a)"
   ]
  },
  {
   "cell_type": "code",
   "execution_count": null,
   "id": "2a3d9f0e-8f50-4f7b-a0ae-edb5fcdd5778",
   "metadata": {},
   "outputs": [],
   "source": [
    "# here , output and object are created newly to change the value"
   ]
  },
  {
   "cell_type": "code",
   "execution_count": 68,
   "id": "acb78c67-adcc-43bd-af00-2f2103247624",
   "metadata": {},
   "outputs": [],
   "source": [
    "d = \"ravi\""
   ]
  },
  {
   "cell_type": "code",
   "execution_count": 69,
   "id": "70b952cc-c30f-41e4-9228-537e068ad06c",
   "metadata": {},
   "outputs": [
    {
     "name": "stdout",
     "output_type": "stream",
     "text": [
      "ravi\n"
     ]
    }
   ],
   "source": [
    "print(d)"
   ]
  },
  {
   "cell_type": "code",
   "execution_count": 71,
   "id": "5f35649e-13c3-4272-8a64-925f5ffdfb2e",
   "metadata": {},
   "outputs": [],
   "source": [
    "d = \"sharma\""
   ]
  },
  {
   "cell_type": "code",
   "execution_count": 73,
   "id": "f832b51a-8f2f-4339-949d-858922bfe0ce",
   "metadata": {},
   "outputs": [
    {
     "name": "stdout",
     "output_type": "stream",
     "text": [
      "sharma\n"
     ]
    }
   ],
   "source": [
    "print(d)"
   ]
  },
  {
   "cell_type": "code",
   "execution_count": null,
   "id": "7cfaa16c-fe75-42bb-b798-feed82389d12",
   "metadata": {},
   "outputs": [],
   "source": [
    "# here in case of string , also a new object is created when we try to change the value"
   ]
  },
  {
   "cell_type": "code",
   "execution_count": null,
   "id": "cd4dae8f-5ae6-4dbc-82b1-2fb0ffdaf7ea",
   "metadata": {},
   "outputs": [],
   "source": []
  },
  {
   "cell_type": "code",
   "execution_count": 74,
   "id": "ec4759ff-6398-470b-99ed-5dbd055db750",
   "metadata": {},
   "outputs": [],
   "source": [
    "list = [\"ravi\" , 35 , 34.50 , True]"
   ]
  },
  {
   "cell_type": "code",
   "execution_count": 75,
   "id": "7b6405a5-d152-4267-90e0-82af2303ae8a",
   "metadata": {},
   "outputs": [
    {
     "name": "stdout",
     "output_type": "stream",
     "text": [
      "['ravi', 35, 34.5, True]\n"
     ]
    }
   ],
   "source": [
    "print(list)"
   ]
  },
  {
   "cell_type": "code",
   "execution_count": 76,
   "id": "3c51d65b-1539-4529-96ec-e9dcde640efd",
   "metadata": {},
   "outputs": [],
   "source": [
    "list[2] = 45.90"
   ]
  },
  {
   "cell_type": "code",
   "execution_count": 77,
   "id": "7664487d-87a3-4384-a24d-e563dfbb3d5c",
   "metadata": {},
   "outputs": [
    {
     "name": "stdout",
     "output_type": "stream",
     "text": [
      "['ravi', 35, 45.9, True]\n"
     ]
    }
   ],
   "source": [
    "print(list)"
   ]
  },
  {
   "cell_type": "code",
   "execution_count": 81,
   "id": "612f8686-a19b-42c1-b796-d745e1efc16f",
   "metadata": {},
   "outputs": [],
   "source": [
    "list.append(\"sharma\")"
   ]
  },
  {
   "cell_type": "code",
   "execution_count": 82,
   "id": "29983663-b22c-4c6b-8f93-0af4f98f4680",
   "metadata": {},
   "outputs": [
    {
     "name": "stdout",
     "output_type": "stream",
     "text": [
      "['ravi', 35, 45.9, True, False, False, 'sharma']\n"
     ]
    }
   ],
   "source": [
    "print(list)"
   ]
  },
  {
   "cell_type": "code",
   "execution_count": null,
   "id": "d8e72348-3c87-45b4-9337-d5804c4cad36",
   "metadata": {},
   "outputs": [],
   "source": [
    "# in above cell 3rd object of list is replaced by new one"
   ]
  },
  {
   "cell_type": "code",
   "execution_count": 92,
   "id": "a7eae978-771d-4c3d-b981-f93d6d0b0158",
   "metadata": {},
   "outputs": [],
   "source": [
    "f = {\"name\" : \"ravi\" , \"city\" : \"kosli\"}"
   ]
  },
  {
   "cell_type": "code",
   "execution_count": 93,
   "id": "ace1a464-d8ef-4406-9be4-75b8e70061c6",
   "metadata": {},
   "outputs": [
    {
     "name": "stdout",
     "output_type": "stream",
     "text": [
      "{'name': 'ravi', 'city': 'kosli'}\n"
     ]
    }
   ],
   "source": [
    "print(f)"
   ]
  },
  {
   "cell_type": "code",
   "execution_count": 98,
   "id": "2d1f8d26-eea8-491b-b678-95e955671eea",
   "metadata": {},
   "outputs": [],
   "source": [
    "f[\"kosli\"] = \"rewari\""
   ]
  },
  {
   "cell_type": "code",
   "execution_count": 99,
   "id": "8998ed21-2aa1-470f-aeca-0d8c1a828a1e",
   "metadata": {},
   "outputs": [
    {
     "name": "stdout",
     "output_type": "stream",
     "text": [
      "{'name': 'ravi', 'city': 'kosli', 'kosli': 'rewari'}\n"
     ]
    }
   ],
   "source": [
    "print(f)"
   ]
  },
  {
   "cell_type": "code",
   "execution_count": null,
   "id": "3d28783f-fc84-45db-af7b-d8f43875848d",
   "metadata": {},
   "outputs": [],
   "source": []
  }
 ],
 "metadata": {
  "kernelspec": {
   "display_name": "Python 3 (ipykernel)",
   "language": "python",
   "name": "python3"
  },
  "language_info": {
   "codemirror_mode": {
    "name": "ipython",
    "version": 3
   },
   "file_extension": ".py",
   "mimetype": "text/x-python",
   "name": "python",
   "nbconvert_exporter": "python",
   "pygments_lexer": "ipython3",
   "version": "3.10.8"
  }
 },
 "nbformat": 4,
 "nbformat_minor": 5
}
